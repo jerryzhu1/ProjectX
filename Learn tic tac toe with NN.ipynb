{
 "cells": [
  {
   "cell_type": "code",
   "execution_count": 1,
   "metadata": {},
   "outputs": [
    {
     "name": "stderr",
     "output_type": "stream",
     "text": [
      "D:\\Anaconda3\\lib\\site-packages\\h5py\\__init__.py:36: FutureWarning: Conversion of the second argument of issubdtype from `float` to `np.floating` is deprecated. In future, it will be treated as `np.float64 == np.dtype(float).type`.\n",
      "  from ._conv import register_converters as _register_converters\n"
     ]
    }
   ],
   "source": [
    "import tensorflow as tf\n",
    "import matplotlib.pyplot as plt\n",
    "import csv\n",
    "import numpy as np\n",
    "import random\n",
    "from tensorflow.python.framework import ops\n",
    "ops.reset_default_graph()"
   ]
  },
  {
   "cell_type": "code",
   "execution_count": 2,
   "metadata": {
    "collapsed": true
   },
   "outputs": [],
   "source": [
    "# Set batch size and transformation\n",
    "batch_size = 50\n",
    "symmetry = ['rotate180', 'rotate90', 'rotate270', 'flip_v', 'flip_h']"
   ]
  },
  {
   "cell_type": "code",
   "execution_count": 3,
   "metadata": {
    "collapsed": true
   },
   "outputs": [],
   "source": [
    "# generate new boards and response with transformation\n",
    "def get_symmetry(board, play_response, transformation):\n",
    "    if transformation == 'rotate180':\n",
    "        new_response = 8 - play_response\n",
    "        return board[::-1], new_response\n",
    "    elif transformation == 'rotate90':\n",
    "        new_response = [6, 3, 0, 7, 4, 1, 8, 5, 2].index(play_response)\n",
    "        tuple_board = list(zip(*[board[6:9], board[3:6], board[0:3]]))\n",
    "        return [value for item in tuple_board for value in item], new_response\n",
    "    elif transformation == 'rotate270':\n",
    "        new_response = [2, 5, 8, 1, 4, 7, 0, 3, 6].index(play_response)\n",
    "        tuple_board = list(zip(*[board[0:3], board[3:6], board[6:9]]))[::-1]\n",
    "        return [value for item in tuple_board for value in item], new_response\n",
    "    elif transformation == 'flip_v':\n",
    "        new_response = [6, 7, 8, 3, 4, 5, 0, 1, 2].index(play_response)\n",
    "        return board[6:9] + board[3:6] + board[0:3], new_response\n",
    "    elif transformation == 'flip_h':  # flip_h = rotate180, then flip_v\n",
    "        new_response = [2, 1, 0, 5, 4, 3, 8, 7, 6].index(play_response)\n",
    "        new_board = board[::-1]\n",
    "        return new_board[6:9] + new_board[3:6] + new_board[0:3], new_response\n",
    "    else:\n",
    "        raise ValueError('Method not implemented.')"
   ]
  },
  {
   "cell_type": "code",
   "execution_count": 4,
   "metadata": {
    "collapsed": true
   },
   "outputs": [],
   "source": [
    "# import best moves from csv\n",
    "def get_moves_from_csv(csv_file):\n",
    "    play_moves = []\n",
    "    with open(csv_file, 'rt') as csvfile:\n",
    "        reader = csv.reader(csvfile, delimiter=',')\n",
    "        for row in reader:\n",
    "            play_moves.append(([int(x) for x in row[0:9]], int(row[9])))\n",
    "    return play_moves\n"
   ]
  },
  {
   "cell_type": "code",
   "execution_count": 5,
   "metadata": {
    "collapsed": true
   },
   "outputs": [],
   "source": [
    "# generate boards and best moves with transformation\n",
    "def get_rand_move(play_moves, rand_transforms=2):\n",
    "    (board, play_response) = random.choice(play_moves)\n",
    "    possible_transforms = ['rotate90', 'rotate180', 'rotate270', 'flip_v', 'flip_h']\n",
    "    for _ in range(rand_transforms):\n",
    "        random_transform = random.choice(possible_transforms)\n",
    "        (board, play_response) = get_symmetry(board, play_response, random_transform)\n",
    "        #print(random_transform + '  ' + str(board) + '  ' + str(play_response))\n",
    "    return board, play_response"
   ]
  },
  {
   "cell_type": "markdown",
   "metadata": {},
   "source": [
    "## training set & testing set"
   ]
  },
  {
   "cell_type": "code",
   "execution_count": 6,
   "metadata": {
    "collapsed": true
   },
   "outputs": [],
   "source": [
    "# optimal moves\n",
    "moves = get_moves_from_csv('base_tic_tac_toe_moves.csv')"
   ]
  },
  {
   "cell_type": "code",
   "execution_count": 7,
   "metadata": {},
   "outputs": [],
   "source": [
    "# Create train set:\n",
    "train_length = 500\n",
    "train_set = []\n",
    "for t in range(train_length):\n",
    "    train_set.append(get_rand_move(moves))"
   ]
  },
  {
   "cell_type": "code",
   "execution_count": 8,
   "metadata": {
    "collapsed": true
   },
   "outputs": [],
   "source": [
    "# Create a train set:\n",
    "test_length = 200\n",
    "test_set = []\n",
    "for t in range(test_length):\n",
    "    test_set.append(get_rand_move(moves))"
   ]
  },
  {
   "cell_type": "code",
   "execution_count": 9,
   "metadata": {
    "collapsed": true
   },
   "outputs": [],
   "source": [
    "def init_weights(shape):\n",
    "    return tf.Variable(tf.random_normal(shape))\n",
    "\n",
    "\n",
    "def model(X, A1, A2, bias1, bias2):\n",
    "    layer1 = tf.nn.sigmoid(tf.add(tf.matmul(X, A1), bias1))\n",
    "    layer2 = tf.add(tf.matmul(layer1, A2), bias2)\n",
    "    return layer2\n",
    "\n",
    "def model_3(X, A1, A2, A3, bias1, bias2, bias3):\n",
    "    layer1 = tf.nn.sigmoid(tf.add(tf.matmul(X, A1), bias1))\n",
    "    layer2 = tf.nn.sigmoid(tf.add(tf.matmul(layer1, A2), bias2))\n",
    "    layer3 = tf.add(tf.matmul(layer2, A3), bias3)\n",
    "    return layer3\n",
    "\n",
    "def model_4(X, A1, A2, A3, A4, bias1, bias2, bias3, bias4):\n",
    "    layer1 = tf.nn.sigmoid(tf.add(tf.matmul(X, A1), bias1))\n",
    "    layer2 = tf.nn.sigmoid(tf.add(tf.matmul(layer1, A2), bias2))\n",
    "    layer3 = tf.nn.sigmoid(tf.add(tf.matmul(layer2, A3), bias3))\n",
    "    layer4 = tf.add(tf.matmul(layer3, A4), bias4)\n",
    "    return layer4\n"
   ]
  },
  {
   "cell_type": "code",
   "execution_count": 10,
   "metadata": {},
   "outputs": [],
   "source": [
    "def run_model_1(train_set, test_set, N):\n",
    "    X = tf.placeholder(dtype=tf.float32, shape=[None, 9])\n",
    "    Y = tf.placeholder(dtype=tf.int32, shape=[None])\n",
    "\n",
    "    A1 = init_weights([9, 81])\n",
    "    bias1 = init_weights([81])\n",
    "    A2 = init_weights([81, 9])\n",
    "    bias2 = init_weights([9])\n",
    "\n",
    "    #model_output = model(X, A1, A2, bias1, bias2)\n",
    "    model_output = model(X, A1, A2, bias1, bias2)\n",
    "    loss = tf.reduce_mean(tf.nn.sparse_softmax_cross_entropy_with_logits(logits=model_output, labels=Y))\n",
    "    train_step = tf.train.GradientDescentOptimizer(0.025).minimize(loss)\n",
    "    prediction = tf.argmax(model_output, 1)\n",
    "\n",
    "    sess = tf.Session()\n",
    "    init = tf.global_variables_initializer()\n",
    "    sess.run(init)\n",
    "    print('1 hidden layer model')\n",
    "    loss_vec_2 = []\n",
    "    accu_2 = []\n",
    "    for i in range(N):\n",
    "        rand_indices = np.random.choice(range(len(train_set)), batch_size, replace=False)\n",
    "        batch_data = [train_set[i] for i in rand_indices]\n",
    "        x_input = [x[0] for x in batch_data]\n",
    "        y_target = np.array([y[1] for y in batch_data])\n",
    "        sess.run(train_step, feed_dict={X: x_input, Y: y_target})\n",
    "\n",
    "        temp_loss = sess.run(loss, feed_dict={X: x_input, Y: y_target})\n",
    "        loss_vec_2.append(temp_loss)\n",
    "        if i % 2000 == 0:\n",
    "            print('Iteration: {}, Loss: {}'.format(i, temp_loss))\n",
    "        if i % 100 == 0 and i != 0:\n",
    "            n = 0\n",
    "            for test_data in test_set:\n",
    "                test_boards = [test_data[0]]\n",
    "                feed_dict = {X: test_boards}\n",
    "                logits = sess.run(model_output, feed_dict=feed_dict)\n",
    "                predictions = sess.run(prediction, feed_dict=feed_dict)\n",
    "                #print(predictions)\n",
    "                if predictions == test_data[1]:\n",
    "                    #print(True)\n",
    "                    n+=1\n",
    "\n",
    "            accu_2.append(n/len(test_set))\n",
    "\n",
    "    \n",
    "    #accu_2 = get_accu(sess, test_set)\n",
    "    print('Final accuracy: ', accu_2[-1])\n",
    "    sess.close()\n",
    "    return loss_vec_2, accu_2"
   ]
  },
  {
   "cell_type": "code",
   "execution_count": 11,
   "metadata": {},
   "outputs": [],
   "source": [
    "def run_model_2(train_set, test_set, N):\n",
    "    X = tf.placeholder(dtype=tf.float32, shape=[None, 9])\n",
    "    Y = tf.placeholder(dtype=tf.int32, shape=[None])\n",
    "\n",
    "    A1 = init_weights([9, 81])\n",
    "    bias1 = init_weights([81])\n",
    "    A2 = init_weights([81, 81])\n",
    "    bias2 = init_weights([81])\n",
    "    A3 = init_weights([81, 9])\n",
    "    bias3 = init_weights([9])\n",
    "\n",
    "    #model_output = model(X, A1, A2, bias1, bias2)\n",
    "    model_output = model_3(X, A1, A2, A3, bias1, bias2, bias3)\n",
    "\n",
    "    loss = tf.reduce_mean(tf.nn.sparse_softmax_cross_entropy_with_logits(logits=model_output, labels=Y))\n",
    "    train_step = tf.train.GradientDescentOptimizer(0.025).minimize(loss)\n",
    "    prediction = tf.argmax(model_output, 1)\n",
    "\n",
    "    sess = tf.Session()\n",
    "    init = tf.global_variables_initializer()\n",
    "    sess.run(init)\n",
    "    print('2 hidden layer model')\n",
    "    loss_vec_3 = []\n",
    "    accu_3 = []\n",
    "    for i in range(N):\n",
    "        rand_indices = np.random.choice(range(len(train_set)), batch_size, replace=False)\n",
    "        batch_data = [train_set[i] for i in rand_indices]\n",
    "        x_input = [x[0] for x in batch_data]\n",
    "        y_target = np.array([y[1] for y in batch_data])\n",
    "        sess.run(train_step, feed_dict={X: x_input, Y: y_target})\n",
    "\n",
    "        temp_loss = sess.run(loss, feed_dict={X: x_input, Y: y_target})\n",
    "        loss_vec_3.append(temp_loss)\n",
    "        if i % 2000 == 0:\n",
    "            print('Iteration: {}, Loss: {}'.format(i, temp_loss))\n",
    "        if i % 100 == 0 and i != 0:\n",
    "            n = 0\n",
    "            for test_data in test_set:\n",
    "                test_boards = [test_data[0]]\n",
    "                feed_dict = {X: test_boards}\n",
    "                logits = sess.run(model_output, feed_dict=feed_dict)\n",
    "                predictions = sess.run(prediction, feed_dict=feed_dict)\n",
    "                #print(predictions)\n",
    "                if predictions == test_data[1]:\n",
    "                    #print(True)\n",
    "                    n+=1\n",
    "\n",
    "            accu_3.append(n/len(test_set))\n",
    "\n",
    "    \n",
    "    #accu_2 = get_accu(sess, test_set)\n",
    "    print('Final accuracy: ', accu_3[-1])\n",
    "    sess.close()\n",
    "    return loss_vec_3, accu_3"
   ]
  },
  {
   "cell_type": "code",
   "execution_count": 12,
   "metadata": {},
   "outputs": [],
   "source": [
    "def run_model_3(train_set, test_set, N):\n",
    "\n",
    "    X = tf.placeholder(dtype=tf.float32, shape=[None, 9])\n",
    "    Y = tf.placeholder(dtype=tf.int32, shape=[None])\n",
    "\n",
    "    A1 = init_weights([9, 81])\n",
    "    bias1 = init_weights([81])\n",
    "    A2 = init_weights([81, 81])\n",
    "    bias2 = init_weights([81])\n",
    "    A3 = init_weights([81, 81])\n",
    "    bias3 = init_weights([81])\n",
    "    A4 = init_weights([81, 9])\n",
    "    bias4 = init_weights([9])\n",
    "\n",
    "\n",
    "    #model_output = model(X, A1, A2, bias1, bias2)\n",
    "    model_output = model_4(X, A1, A2, A3, A4, bias1, bias2, bias3, bias4)\n",
    "\n",
    "    loss = tf.reduce_mean(tf.nn.sparse_softmax_cross_entropy_with_logits(logits=model_output, labels=Y))\n",
    "    train_step = tf.train.GradientDescentOptimizer(0.025).minimize(loss)\n",
    "    prediction = tf.argmax(model_output, 1)\n",
    "\n",
    "    sess = tf.Session()\n",
    "    init = tf.global_variables_initializer()\n",
    "    sess.run(init)\n",
    "\n",
    "    print('3 hidden layer model')\n",
    "\n",
    "    loss_vec_4 = []\n",
    "    accu_4 = []\n",
    "    for i in range(N):\n",
    "        rand_indices = np.random.choice(range(len(train_set)), batch_size, replace=False)\n",
    "        batch_data = [train_set[i] for i in rand_indices]\n",
    "        x_input = [x[0] for x in batch_data]\n",
    "        y_target = np.array([y[1] for y in batch_data])\n",
    "        sess.run(train_step, feed_dict={X: x_input, Y: y_target})\n",
    "\n",
    "        temp_loss = sess.run(loss, feed_dict={X: x_input, Y: y_target})\n",
    "        loss_vec_4.append(temp_loss)\n",
    "        if i % 2000 == 0:\n",
    "            print('Iteration: {}, Loss: {}'.format(i, temp_loss))\n",
    "            \n",
    "        if i % 100 == 0 and i != 0:\n",
    "            n = 0\n",
    "            for test_data in test_set:\n",
    "                test_boards = [test_data[0]]\n",
    "                feed_dict = {X: test_boards}\n",
    "                logits = sess.run(model_output, feed_dict=feed_dict)\n",
    "                predictions = sess.run(prediction, feed_dict=feed_dict)\n",
    "                #print(predictions)\n",
    "                if predictions == test_data[1]:\n",
    "                    #print(True)\n",
    "                    n+=1\n",
    "\n",
    "            accu_4.append(n/len(test_set))\n",
    "\n",
    "    \n",
    "    #accu_2 = get_accu(sess, test_set)\n",
    "    print('Final accuracy: ', accu_4[-1])\n",
    "    sess.close()\n",
    "    return loss_vec_4, accu_4"
   ]
  },
  {
   "cell_type": "markdown",
   "metadata": {},
   "source": [
    "## Train models with all data labeled"
   ]
  },
  {
   "cell_type": "code",
   "execution_count": 13,
   "metadata": {},
   "outputs": [
    {
     "name": "stdout",
     "output_type": "stream",
     "text": [
      "1 hidden layer model\n",
      "Iteration: 0, Loss: 10.057976722717285\n",
      "Iteration: 2000, Loss: 1.3763225078582764\n",
      "Iteration: 4000, Loss: 1.036607265472412\n",
      "Iteration: 6000, Loss: 0.9721243977546692\n",
      "Iteration: 8000, Loss: 0.8083420395851135\n",
      "Final accuracy:  0.64\n",
      "2 hidden layer model\n",
      "Iteration: 0, Loss: 9.137541770935059\n",
      "Iteration: 2000, Loss: 0.9187624454498291\n",
      "Iteration: 4000, Loss: 0.5930891633033752\n",
      "Iteration: 6000, Loss: 0.48342597484588623\n",
      "Iteration: 8000, Loss: 0.42732229828834534\n",
      "Final accuracy:  0.69\n",
      "3 hidden layer model\n",
      "Iteration: 0, Loss: 6.485640048980713\n",
      "Iteration: 2000, Loss: 0.6458215117454529\n",
      "Iteration: 4000, Loss: 0.7492163181304932\n",
      "Iteration: 6000, Loss: 0.40808188915252686\n",
      "Iteration: 8000, Loss: 0.427094966173172\n",
      "Final accuracy:  0.675\n"
     ]
    }
   ],
   "source": [
    "N_generation = 10000\n",
    "loss_vec_1, accu_1 = run_model_1(train_set, test_set, N_generation)\n",
    "loss_vec_2, accu_2 = run_model_2(train_set, test_set, N_generation)\n",
    "loss_vec_3, accu_3 = run_model_3(train_set, test_set, N_generation)"
   ]
  },
  {
   "cell_type": "markdown",
   "metadata": {},
   "source": [
    "## Loss per generation"
   ]
  },
  {
   "cell_type": "code",
   "execution_count": 14,
   "metadata": {},
   "outputs": [
    {
     "data": {
      "image/png": "[encoded data removed]",
      "text/plain": [
       "<matplotlib.figure.Figure at 0x1da993f41d0>"
      ]
     },
     "metadata": {},
     "output_type": "display_data"
    }
   ],
   "source": [
    "# Print loss\n",
    "plt.plot(loss_vec_1, 'r', label='Loss_1_hidden_layers')\n",
    "plt.plot(loss_vec_2, 'g', label='Loss_2_hidden_layers')\n",
    "plt.plot(loss_vec_3, 'b', label='Loss_3_hidden_layers')\n",
    "plt.title('Loss (sparse_softmax_cross_entropy_with_logits)')\n",
    "plt.xlabel('Generation')\n",
    "plt.ylabel('Loss')\n",
    "plt.show()"
   ]
  },
  {
   "cell_type": "markdown",
   "metadata": {},
   "source": [
    "## Accuracy in test set per 100 generation"
   ]
  },
  {
   "cell_type": "code",
   "execution_count": 15,
   "metadata": {},
   "outputs": [
    {
     "data": {
      "image/png": "[encoded data removed]",
      "text/plain": [
       "<matplotlib.figure.Figure at 0x1da996097b8>"
      ]
     },
     "metadata": {},
     "output_type": "display_data"
    },
    {
     "name": "stdout",
     "output_type": "stream",
     "text": [
      "Test set accuracy (1 fullly connected hidden layer): 0.64\n",
      "Test set accuracy (2 fullly connected hidden layer): 0.69\n",
      "Test set accuracy (3 fullly connected hidden layer): 0.675\n"
     ]
    }
   ],
   "source": [
    "y = [x * 100 for x in range(len(accu_1))]\n",
    "plt.plot(y, accu_1, 'r', label='Accuracy_1_hidden_layers')\n",
    "plt.plot(y, accu_2, 'g', label='Accuracy_2_hidden_layers')\n",
    "plt.plot(y, accu_3, 'b', label='Accuracy_3_hidden_layers')\n",
    "plt.title('Accuracy ({} test set)'.format(test_length))\n",
    "plt.xlabel('Generation')\n",
    "plt.ylabel('Accuracy')\n",
    "plt.show()\n",
    "\n",
    "print('Test set accuracy (1 fullly connected hidden layer): {}'.format(accu_1[-1]))\n",
    "print('Test set accuracy (2 fullly connected hidden layer): {}'.format(accu_2[-1]))\n",
    "print('Test set accuracy (3 fullly connected hidden layer): {}'.format(accu_3[-1]))"
   ]
  },
  {
   "cell_type": "markdown",
   "metadata": {},
   "source": [
    "## Train model with half data labeled"
   ]
  },
  {
   "cell_type": "code",
   "execution_count": 16,
   "metadata": {},
   "outputs": [
    {
     "data": {
      "text/plain": [
       "15"
      ]
     },
     "execution_count": 16,
     "metadata": {},
     "output_type": "execute_result"
    }
   ],
   "source": [
    "int(len(moves)/2)"
   ]
  },
  {
   "cell_type": "code",
   "execution_count": 17,
   "metadata": {
    "collapsed": true
   },
   "outputs": [],
   "source": [
    "def remove_labels(moves, N):\n",
    "    rand_indices = np.random.choice(range(len(moves)), (len(moves) - N), replace=False)\n",
    "    moves_incomplete = [moves[i] for i in rand_indices]\n",
    "    dropped_data = [data for data in moves if data not in moves_incomplete]\n",
    "    train_length = 500\n",
    "    train_set_incomplete = []\n",
    "    for t in range(train_length):\n",
    "        train_set_incomplete.append(get_rand_move(moves_incomplete))\n",
    "    return train_set_incomplete, dropped_data"
   ]
  },
  {
   "cell_type": "code",
   "execution_count": 18,
   "metadata": {},
   "outputs": [
    {
     "name": "stdout",
     "output_type": "stream",
     "text": [
      "Removed:\n",
      "([0, -1, 0, 0, 0, 0, 0, 0, 0], 0)\n",
      "([0, 0, 0, 0, 0, -1, 0, 0, 0], 6)\n",
      "([0, 0, 0, 0, 0, 0, 1, -1, -1], 3)\n",
      "([0, 0, 1, 0, 0, -1, -1, 0, 0], 4)\n",
      "([0, 0, 0, -1, 0, 1, 1, -1, -1], 1)\n",
      "([-1, 1, 0, 0, 0, -1, 0, -1, 1], 3)\n",
      "([1, 0, -1, 0, -1, 0, 0, 0, 0], 6)\n",
      "([1, 0, 0, 0, -1, 0, -1, 0, 0], 2)\n",
      "([1, 0, 0, 0, -1, 0, 0, 0, -1], 6)\n",
      "([1, -1, 0, -1, -1, 0, 0, 1, 0], 5)\n",
      "([1, -1, 0, 0, -1, 0, -1, 1, 0], 2)\n",
      "([1, -1, -1, 0, -1, 0, 0, 1, 0], 6)\n",
      "([1, 0, -1, -1, -1, 0, 1, 0, 0], 8)\n",
      "([1, 0, 0, 1, -1, -1, -1, 0, 0], 2)\n",
      "([1, 0, 0, -1, -1, 0, 1, 0, -1], 5)\n",
      "1 hidden layer model\n",
      "Iteration: 0, Loss: 8.093340873718262\n",
      "Iteration: 2000, Loss: 1.1490188837051392\n",
      "Iteration: 4000, Loss: 0.7394683957099915\n",
      "Iteration: 6000, Loss: 0.6393383145332336\n",
      "Iteration: 8000, Loss: 0.5543304085731506\n",
      "Final accuracy:  0.465\n",
      "2 hidden layer model\n",
      "Iteration: 0, Loss: 7.402807712554932\n",
      "Iteration: 2000, Loss: 0.7204148173332214\n",
      "Iteration: 4000, Loss: 0.55366450548172\n",
      "Iteration: 6000, Loss: 0.48100268840789795\n",
      "Iteration: 8000, Loss: 0.2576793134212494\n",
      "Final accuracy:  0.52\n",
      "3 hidden layer model\n",
      "Iteration: 0, Loss: 6.582111358642578\n",
      "Iteration: 2000, Loss: 0.7210565805435181\n",
      "Iteration: 4000, Loss: 0.2972337007522583\n",
      "Iteration: 6000, Loss: 0.25636062026023865\n",
      "Iteration: 8000, Loss: 0.26365330815315247\n",
      "Final accuracy:  0.52\n"
     ]
    }
   ],
   "source": [
    "train_set_incomplete_drop_half, dropped_data_half = remove_labels(moves, int(len(moves)/2))\n",
    "print('Removed:')\n",
    "for data in dropped_data_half:\n",
    "    print(str(data))\n",
    "loss_vec_1_drop_half, accu_1_drop_half = run_model_1(train_set_incomplete_drop_half, test_set, N_generation)\n",
    "loss_vec_2_drop_half, accu_2_drop_half = run_model_2(train_set_incomplete_drop_half, test_set, N_generation)\n",
    "loss_vec_3_drop_half, accu_3_drop_half = run_model_3(train_set_incomplete_drop_half, test_set, N_generation)"
   ]
  },
  {
   "cell_type": "markdown",
   "metadata": {},
   "source": [
    "## Loss per generation"
   ]
  },
  {
   "cell_type": "code",
   "execution_count": 19,
   "metadata": {},
   "outputs": [
    {
     "data": {
      "image/png": "[encoded data removed]",
      "text/plain": [
       "<matplotlib.figure.Figure at 0x1da99807d30>"
      ]
     },
     "metadata": {},
     "output_type": "display_data"
    }
   ],
   "source": [
    "# Print loss\n",
    "plt.plot(loss_vec_1_drop_half, 'r', label='Loss_1_hidden_layers')\n",
    "plt.plot(loss_vec_2_drop_half, 'g', label='Loss_2_hidden_layers')\n",
    "plt.plot(loss_vec_3_drop_half, 'b', label='Loss_3_hidden_layers')\n",
    "plt.title('Loss_drop_half_labels (sparse_softmax_cross_entropy_with_logits)')\n",
    "plt.xlabel('Generation')\n",
    "plt.ylabel('Loss (dropped half labels)')\n",
    "plt.show()"
   ]
  },
  {
   "cell_type": "markdown",
   "metadata": {},
   "source": [
    "## Remove half (15) labels from training set"
   ]
  },
  {
   "cell_type": "code",
   "execution_count": 22,
   "metadata": {},
   "outputs": [
    {
     "data": {
      "image/png": "[encoded data removed]",
      "text/plain": [
       "<matplotlib.figure.Figure at 0x1da9aff1908>"
      ]
     },
     "metadata": {},
     "output_type": "display_data"
    },
    {
     "name": "stdout",
     "output_type": "stream",
     "text": [
      "Test set accuracy (1 fullly connected hidden layer): 0.465\n",
      "Test set accuracy (2 fullly connected hidden layer): 0.52\n",
      "Test set accuracy (3 fullly connected hidden layer): 0.52\n"
     ]
    }
   ],
   "source": [
    "y = [x * 100 for x in range(len(accu_1))]\n",
    "plt.plot(y, accu_1_drop_half, 'r', label='Accuracy_1_hidden_layers')\n",
    "plt.plot(y, accu_2_drop_half, 'g', label='Accuracy_2_hidden_layers')\n",
    "plt.plot(y, accu_3_drop_half, 'b', label='Accuracy_3_hidden_layers')\n",
    "plt.title('Accuracy_drop_half ({} test set)'.format(test_length))\n",
    "plt.xlabel('Generation')\n",
    "plt.ylabel('Accuracy')\n",
    "plt.show()\n",
    "\n",
    "#print('Training set removed: ', str(dropped_data_half))\n",
    "print('Test set accuracy (1 fullly connected hidden layer): {}'.format(accu_1_drop_half[-1]))\n",
    "print('Test set accuracy (2 fullly connected hidden layer): {}'.format(accu_2_drop_half[-1]))\n",
    "print('Test set accuracy (3 fullly connected hidden layer): {}'.format(accu_3_drop_half[-1]))"
   ]
  },
  {
   "cell_type": "code",
   "execution_count": null,
   "metadata": {
    "collapsed": true
   },
   "outputs": [],
   "source": []
  }
 ],
 "metadata": {
  "kernelspec": {
   "display_name": "Python 3",
   "language": "python",
   "name": "python3"
  },
  "language_info": {
   "codemirror_mode": {
    "name": "ipython",
    "version": 3
   },
   "file_extension": ".py",
   "mimetype": "text/x-python",
   "name": "python",
   "nbconvert_exporter": "python",
   "pygments_lexer": "ipython3",
   "version": "3.6.3"
  }
 },
 "nbformat": 4,
 "nbformat_minor": 2
}
